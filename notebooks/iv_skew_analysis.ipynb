{
 "cells": [
  {
   "cell_type": "code",
   "execution_count": null,
   "id": "428d4479",
   "metadata": {
    "vscode": {
     "languageId": "plaintext"
    }
   },
   "outputs": [],
   "source": [
    "# === 1. Setup ===\n",
    "import pandas as pd\n",
    "import numpy as np\n",
    "import matplotlib.pyplot as plt\n",
    "import yfinance as yf\n",
    "\n",
    "plt.style.use('seaborn')\n",
    "\n"
   ]
  },
  {
   "cell_type": "code",
   "execution_count": null,
   "id": "6307c45e",
   "metadata": {
    "vscode": {
     "languageId": "plaintext"
    }
   },
   "outputs": [],
   "source": [
    "# === 2. Load VIX, VIX3M and SKEW ===\n",
    "import pandas as pd, pathlib, urllib.request\n",
    "\n",
    "root = pathlib.Path('data/vol')\n",
    "root.mkdir(parents=True, exist_ok=True)\n",
    "\n",
    "urls = {\n",
    "    'VIX'   : 'https://stooq.com/q/d/l/?s=%5Evix&i=d',\n",
    "    'VIX3M' : 'https://stooq.com/q/d/l/?s=%5Evix3m&i=d',\n",
    "    'SKEW'  : 'https://stooq.com/q/d/l/?s=%5Evskt&i=d'\n",
    "}\n",
    "\n",
    "dfs = []\n",
    "for name, url in urls.items():\n",
    "    csv_path = root / f'{name}.csv'\n",
    "    if not csv_path.exists():\n",
    "        urllib.request.urlretrieve(url, csv_path)\n",
    "    df = pd.read_csv(csv_path, parse_dates=['Date'])\n",
    "    df = df[['Date','Close']].rename(columns={'Close': name})\n",
    "    dfs.append(df)\n",
    "\n",
    "vol = dfs[0]\n",
    "for d in dfs[1:]:\n",
    "    vol = vol.merge(d, on='Date', how='inner')\n",
    "\n",
    "vol.set_index('Date', inplace=True)\n",
    "vol.tail()\n"
   ]
  },
  {
   "cell_type": "code",
   "execution_count": null,
   "id": "a415c2a6",
   "metadata": {
    "vscode": {
     "languageId": "plaintext"
    }
   },
   "outputs": [],
   "source": [
    "# === 2b. Pull SPY prices ===\n",
    "spy = yf.download('SPY', start=vol.index.min(), end=vol.index.max())['Adj Close']\n",
    "spy = spy.rename('SPY')\n",
    "\n"
   ]
  },
  {
   "cell_type": "code",
   "execution_count": null,
   "id": "5f4cbc85",
   "metadata": {
    "vscode": {
     "languageId": "plaintext"
    }
   },
   "outputs": [],
   "source": [
    "# === 3. Build signals ===\n",
    "# Term‑structure slope (90d minus 30d)\n",
    "vol['slope'] = vol['VIX3M'] - vol['VIX']\n",
    "\n",
    "# Skew percentile (higher SKEW = pricey crash protection)\n",
    "vol['skew_pct'] = vol['SKEW'].rolling(252).rank(pct=True)  # 1‑year look‑back\n",
    "\n",
    "# Monthly sample: pick last trading day of each month\n",
    "signals = vol[['slope','skew_pct']].resample('M').last()\n",
    "spy_m   = spy.resample('M').last()\n"
   ]
  },
  {
   "cell_type": "code",
   "execution_count": null,
   "id": "61fac67e",
   "metadata": {
    "vscode": {
     "languageId": "plaintext"
    }
   },
   "outputs": [],
   "source": [
    "# === 3. Trading rule and backtest ===\n",
    "\n",
    "# Long SPY if term structure is steep (slope > 0) AND skew is cheap (<50th pctile)\n",
    "long_signal  = (signals['slope'] > 0) & (signals['skew_pct'] < 0.5)\n",
    "\n",
    "# Compute next‑month returns\n",
    "spy_ret = spy_m.pct_change().shift(-1)   # forward return\n",
    "strategy_ret = spy_ret.where(long_signal, -spy_ret)   # short when rule is false\n",
    "\n",
    "perf = pd.DataFrame({'Strategy': strategy_ret, 'SPY': spy_ret})\n",
    "perf.dropna(inplace=True)\n",
    "\n",
    "# Metrics\n",
    "sharpe = perf['Strategy'].mean() / perf['Strategy'].std() * np.sqrt(12)\n",
    "cagr   = (1 + perf['Strategy']).prod()**(12/len(perf)) - 1\n",
    "maxdd  = (perf['Strategy'].cumsum() - perf['Strategy'].cumsum().cummax()).min()\n",
    "\n",
    "print(f\"Sharpe {sharpe:.2f} | CAGR {cagr:.2%} | MaxDD {maxdd:.2%}\")\n"
   ]
  },
  {
   "cell_type": "code",
   "execution_count": null,
   "id": "8e3d6c8f",
   "metadata": {
    "vscode": {
     "languageId": "plaintext"
    }
   },
   "outputs": [],
   "source": [
    "# === 5. Plot ===\n",
    "cum = (1 + perf).cumprod()\n",
    "cum.plot(figsize=(8,4), title='Cumulative Return: Strategy vs SPY')\n",
    "plt.xlabel('')\n",
    "plt.show()\n",
    "\n"
   ]
  },
  {
   "cell_type": "code",
   "execution_count": null,
   "id": "ad7337c4",
   "metadata": {
    "vscode": {
     "languageId": "plaintext"
    }
   },
   "outputs": [],
   "source": [
    "# === 6. Analyze Performance ===\n",
    "# (To be implemented next)\n"
   ]
  }
 ],
 "metadata": {
  "language_info": {
   "name": "python"
  }
 },
 "nbformat": 4,
 "nbformat_minor": 5
}
